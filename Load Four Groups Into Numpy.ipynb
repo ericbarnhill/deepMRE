{
 "cells": [
  {
   "cell_type": "code",
   "execution_count": 14,
   "metadata": {},
   "outputs": [],
   "source": [
    "import numpy as np\n",
    "import os\n",
    "import nibabel as nib\n",
    "import psutil"
   ]
  },
  {
   "cell_type": "code",
   "execution_count": 46,
   "metadata": {},
   "outputs": [
    {
     "name": "stdout",
     "output_type": "stream",
     "text": [
      "loading FT files from /media/ericbarnhill/backup/projects/2016-08-12-mredge-four-groups/results_laplacian_0_3/women_young/AN_020_kw_NO_DEN\n",
      "loading FT files from /media/ericbarnhill/backup/projects/2016-08-12-mredge-four-groups/results_laplacian_0_3/women_young/AN_023_cr_NO_DEN\n",
      "loading FT files from /media/ericbarnhill/backup/projects/2016-08-12-mredge-four-groups/results_laplacian_0_3/women_young/AN_024_cl_NO_DEN\n",
      "loading FT files from /media/ericbarnhill/backup/projects/2016-08-12-mredge-four-groups/results_laplacian_0_3/women_young/AN_025_cu_NO_DEN\n",
      "loading FT files from /media/ericbarnhill/backup/projects/2016-08-12-mredge-four-groups/results_laplacian_0_3/women_young/AN_026_kk_NO_DEN\n",
      "loading FT files from /media/ericbarnhill/backup/projects/2016-08-12-mredge-four-groups/results_laplacian_0_3/women_young/AN_026_sf_NO_DEN\n",
      "loading FT files from /media/ericbarnhill/backup/projects/2016-08-12-mredge-four-groups/results_laplacian_0_3/women_young/AN_027_js_NO_DEN\n",
      "loading FT files from /media/ericbarnhill/backup/projects/2016-08-12-mredge-four-groups/results_laplacian_0_3/women_young/AN_027_tk_NO_DEN\n",
      "loading FT files from /media/ericbarnhill/backup/projects/2016-08-12-mredge-four-groups/results_laplacian_0_3/women_young/AN_028_fp_NO_DEN\n",
      "loading FT files from /media/ericbarnhill/backup/projects/2016-08-12-mredge-four-groups/results_laplacian_0_3/women_young/AN_028_jz_NO_DEN\n",
      "loading FT files from /media/ericbarnhill/backup/projects/2016-08-12-mredge-four-groups/results_laplacian_0_3/women_young/AN_029_ck_NO_DEN\n",
      "loading FT files from /media/ericbarnhill/backup/projects/2016-08-12-mredge-four-groups/results_laplacian_0_3/women_young/AN_030_jg_NO_DEN\n",
      "loading FT files from /media/ericbarnhill/backup/projects/2016-08-12-mredge-four-groups/results_laplacian_0_3/women_young/AN_031_mk_NO_DEN\n",
      "loading FT files from /media/ericbarnhill/backup/projects/2016-08-12-mredge-four-groups/results_laplacian_0_3/women_young/AN_031_yk_NO_DEN\n",
      "loading FT files from /media/ericbarnhill/backup/projects/2016-08-12-mredge-four-groups/results_laplacian_0_3/women_young/AN_034_nb_NO_DEN\n",
      "loading FT files from /media/ericbarnhill/backup/projects/2016-08-12-mredge-four-groups/results_laplacian_0_3/women_old/AN_041_dk_NO_DEN\n",
      "loading FT files from /media/ericbarnhill/backup/projects/2016-08-12-mredge-four-groups/results_laplacian_0_3/women_old/AN_044_sk_NO_DEN\n",
      "loading FT files from /media/ericbarnhill/backup/projects/2016-08-12-mredge-four-groups/results_laplacian_0_3/women_old/AN_048_es_NO_DEN\n",
      "loading FT files from /media/ericbarnhill/backup/projects/2016-08-12-mredge-four-groups/results_laplacian_0_3/women_old/AN_050_ah_NO_DEN\n",
      "loading FT files from /media/ericbarnhill/backup/projects/2016-08-12-mredge-four-groups/results_laplacian_0_3/women_old/AN_052_ak_NO_DEN\n",
      "loading FT files from /media/ericbarnhill/backup/projects/2016-08-12-mredge-four-groups/results_laplacian_0_3/women_old/AN_052_ch_NO_DEN\n",
      "loading FT files from /media/ericbarnhill/backup/projects/2016-08-12-mredge-four-groups/results_laplacian_0_3/women_old/AN_052_eb_NO_DEN\n",
      "loading FT files from /media/ericbarnhill/backup/projects/2016-08-12-mredge-four-groups/results_laplacian_0_3/women_old/AN_055_hs_NO_DEN\n",
      "loading FT files from /media/ericbarnhill/backup/projects/2016-08-12-mredge-four-groups/results_laplacian_0_3/women_old/AN_056_ur_NO_DEN\n",
      "loading FT files from /media/ericbarnhill/backup/projects/2016-08-12-mredge-four-groups/results_laplacian_0_3/women_old/AN_061_ss_NO_DEN\n",
      "loading FT files from /media/ericbarnhill/backup/projects/2016-08-12-mredge-four-groups/results_laplacian_0_3/women_old/AN_062_ir_NO_DEN\n",
      "loading FT files from /media/ericbarnhill/backup/projects/2016-08-12-mredge-four-groups/results_laplacian_0_3/women_old/AN_065_uw_NO_DEN\n"
     ]
    }
   ],
   "source": [
    "dirstr = '/media/ericbarnhill/backup/projects/2016-08-12-mredge-four-groups/results_laplacian_0_3/'\n",
    "groups = ['women_young', 'women_old']\n",
    "all_slices = []\n",
    "tally = 0\n",
    "for group in groups:\n",
    "    folder_list = os.listdir(os.path.join(dirstr, group))\n",
    "    for folder in folder_list:\n",
    "        ln = len(folder)\n",
    "        if folder[0:2] == 'AN' and folder[ln-6:ln] == 'NO_DEN':\n",
    "            an_path = os.path.join(dirstr, group, folder)\n",
    "            print('loading FT files from',an_path)\n",
    "            ft_path = os.path.join(an_path, 'FT')\n",
    "            freq_folders = os.listdir(ft_path)\n",
    "            for freq_folder in freq_folders:\n",
    "                freq_path = os.path.join(ft_path, freq_folder)\n",
    "                comp_folders = os.listdir(freq_path)\n",
    "                for comp_folder in comp_folders:\n",
    "                    nifti_name = freq_folder + '_' + comp_folder + '.nii'\n",
    "                    if tally < 968:\n",
    "                        nii = nib.load(os.path.join(freq_path, comp_folder, nifti_name))\n",
    "                        all_slices.append(nii.get_data())\n",
    "                        tally = tally + 1\n",
    "                    \n",
    "                    "
   ]
  },
  {
   "cell_type": "code",
   "execution_count": 47,
   "metadata": {},
   "outputs": [
    {
     "name": "stderr",
     "output_type": "stream",
     "text": [
      "/home/ericbarnhill/Documents/code/tensorflow/lib/python3.5/site-packages/ipykernel_launcher.py:5: ComplexWarning: Casting complex values to real discards the imaginary part\n",
      "  \"\"\"\n"
     ]
    }
   ],
   "source": [
    "total_slcs = 15*len(all_slices)\n",
    "all_slcs = np.zeros((84, 100, total_slcs))\n",
    "for n in range(len(all_slices)):\n",
    "    index = int(n*15)\n",
    "    all_slcs[:,:,index:index+15] = all_slices[n]"
   ]
  },
  {
   "cell_type": "code",
   "execution_count": 44,
   "metadata": {},
   "outputs": [
    {
     "data": {
      "text/plain": [
       "(84, 100, 6615)"
      ]
     },
     "execution_count": 44,
     "metadata": {},
     "output_type": "execute_result"
    }
   ],
   "source": [
    "all_slcs.shape\n",
    "\n"
   ]
  },
  {
   "cell_type": "code",
   "execution_count": 48,
   "metadata": {},
   "outputs": [],
   "source": [
    "np.save(file=\"all_slcs_women\", arr=all_slcs)"
   ]
  },
  {
   "cell_type": "code",
   "execution_count": 35,
   "metadata": {},
   "outputs": [
    {
     "data": {
      "text/plain": [
       "'/home/ericbarnhill'"
      ]
     },
     "execution_count": 35,
     "metadata": {},
     "output_type": "execute_result"
    }
   ],
   "source": [
    "len\n"
   ]
  }
 ],
 "metadata": {
  "kernelspec": {
   "display_name": "Python 3",
   "language": "python",
   "name": "python3"
  },
  "language_info": {
   "codemirror_mode": {
    "name": "ipython",
    "version": 3
   },
   "file_extension": ".py",
   "mimetype": "text/x-python",
   "name": "python",
   "nbconvert_exporter": "python",
   "pygments_lexer": "ipython3",
   "version": "3.5.2"
  }
 },
 "nbformat": 4,
 "nbformat_minor": 2
}
